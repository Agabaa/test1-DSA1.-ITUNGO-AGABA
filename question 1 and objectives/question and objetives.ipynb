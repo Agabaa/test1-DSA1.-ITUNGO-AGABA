{
 "cells": [
  {
   "cell_type": "markdown",
   "metadata": {},
   "source": [
    "QUESTION 1\n",
    "\n",
    "a. The data structure used to store the numbers in the code is a Python list, represented by the variable `lst`. A list is a suitable data structure for this task because it allows you to store a sequence of numbers making it easy to access individual elements.\n",
    "b. The initialization of `maxSum` with the first element of the list (`lst[0]`) is essential because it provides an initial value for the maximum subarray sum. It ensures that the algorithm considers at least one element from the input list when the iteration starts. \n",
    "c. The `for` loop iterates through the list `lst` from the beginning to the end. The `sumz` variable is used to keep track of the sum of the subarray being considered. It starts at 0 and is updated within the loop by adding the current element from the list (`lst[i]`). \n",
    "d.\n",
    "e. The time complexity of this code for finding the maximum subarray sum is O(n). The choice of using a list for the data structure is appropriate for this task because it allows efficient access to elements by index. \n",
    "\n",
    "\n",
    "OBJECTIVES\n",
    "1.c\n",
    "2.b\n",
    "3.b\n",
    "4.d\n",
    "5.c\n",
    "6.b\n",
    "7.a\n",
    "8.b\n",
    "9.a\n",
    "10.a\n",
    "\n",
    "\n"
   ]
  }
 ],
 "metadata": {
  "language_info": {
   "name": "python"
  }
 },
 "nbformat": 4,
 "nbformat_minor": 2
}
